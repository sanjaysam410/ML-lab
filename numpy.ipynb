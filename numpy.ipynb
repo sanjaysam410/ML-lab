{
 "cells": [
  {
   "cell_type": "code",
   "execution_count": 4,
   "id": "7ee5e3ee-2fe6-4369-8d96-2e4ff06b7264",
   "metadata": {},
   "outputs": [
    {
     "name": "stdout",
     "output_type": "stream",
     "text": [
      "[1 2 3 4 5]\n",
      "<class 'numpy.ndarray'>\n"
     ]
    }
   ],
   "source": [
    "''' Create an array using numpy library '''\n",
    "import numpy as np\n",
    "a=np.array([1, 2, 3, 4, 5])\n",
    "print(a)\n",
    "print(type(a))"
   ]
  },
  {
   "cell_type": "code",
   "execution_count": 6,
   "id": "59a50947-ec8a-467b-bd05-c532cf5f6be1",
   "metadata": {},
   "outputs": [
    {
     "data": {
      "text/plain": [
       "array([0., 2., 4., 6., 8.])"
      ]
     },
     "execution_count": 6,
     "metadata": {},
     "output_type": "execute_result"
    }
   ],
   "source": [
    "np.linspace(0,10,5,endpoint=False)"
   ]
  },
  {
   "cell_type": "code",
   "execution_count": 8,
   "id": "8c4e41ef-c97f-441e-bba3-12650d5806c1",
   "metadata": {},
   "outputs": [
    {
     "data": {
      "text/plain": [
       "array([ 0. ,  2.5,  5. ,  7.5, 10. ])"
      ]
     },
     "execution_count": 8,
     "metadata": {},
     "output_type": "execute_result"
    }
   ],
   "source": [
    "np.linspace(0,10,5,endpoint=True)"
   ]
  },
  {
   "cell_type": "code",
   "execution_count": 14,
   "id": "1e0e9a92-cdd7-46b2-b75c-bba406970f6b",
   "metadata": {},
   "outputs": [
    {
     "data": {
      "text/plain": [
       "array([  10.,  100., 1000.])"
      ]
     },
     "execution_count": 14,
     "metadata": {},
     "output_type": "execute_result"
    }
   ],
   "source": [
    "np.logspace(1,3,3)"
   ]
  },
  {
   "cell_type": "code",
   "execution_count": 16,
   "id": "9321c6eb-cb7f-4941-9af2-c780e06520d4",
   "metadata": {},
   "outputs": [
    {
     "data": {
      "text/plain": [
       "array([1.00000000e+00, 1.59985872e+00, 2.55954792e+00, 4.09491506e+00,\n",
       "       6.55128557e+00, 1.04811313e+01, 1.67683294e+01, 2.68269580e+01,\n",
       "       4.29193426e+01, 6.86648845e+01, 1.09854114e+02, 1.75751062e+02,\n",
       "       2.81176870e+02, 4.49843267e+02, 7.19685673e+02, 1.15139540e+03,\n",
       "       1.84206997e+03, 2.94705170e+03, 4.71486636e+03, 7.54312006e+03,\n",
       "       1.20679264e+04, 1.93069773e+04, 3.08884360e+04, 4.94171336e+04,\n",
       "       7.90604321e+04, 1.26485522e+05, 2.02358965e+05, 3.23745754e+05,\n",
       "       5.17947468e+05, 8.28642773e+05, 1.32571137e+06, 2.12095089e+06,\n",
       "       3.39322177e+06, 5.42867544e+06, 8.68511374e+06, 1.38949549e+07,\n",
       "       2.22299648e+07, 3.55648031e+07, 5.68986603e+07, 9.10298178e+07,\n",
       "       1.45634848e+08, 2.32995181e+08, 3.72759372e+08, 5.96362332e+08,\n",
       "       9.54095476e+08, 1.52641797e+09, 2.44205309e+09, 3.90693994e+09,\n",
       "       6.25055193e+09, 1.00000000e+10])"
      ]
     },
     "execution_count": 16,
     "metadata": {},
     "output_type": "execute_result"
    }
   ],
   "source": [
    "np.logspace(0,10)"
   ]
  },
  {
   "cell_type": "code",
   "execution_count": 18,
   "id": "06f64144-9c45-436c-b0bb-4396e7b28fba",
   "metadata": {},
   "outputs": [
    {
     "data": {
      "text/plain": [
       "(2, 3)"
      ]
     },
     "execution_count": 18,
     "metadata": {},
     "output_type": "execute_result"
    }
   ],
   "source": [
    "b=[[90,10,30],[80,70,60]]\n",
    "np.shape(b)"
   ]
  },
  {
   "cell_type": "code",
   "execution_count": 20,
   "id": "00994547-b954-42e2-95dc-777de8a15273",
   "metadata": {},
   "outputs": [
    {
     "data": {
      "text/plain": [
       "array([[90, 10],\n",
       "       [30, 80],\n",
       "       [70, 60]])"
      ]
     },
     "execution_count": 20,
     "metadata": {},
     "output_type": "execute_result"
    }
   ],
   "source": [
    "np.reshape(b,(3,2))"
   ]
  },
  {
   "cell_type": "code",
   "execution_count": 22,
   "id": "58053a2f-5700-4953-973a-4db277491366",
   "metadata": {},
   "outputs": [
    {
     "data": {
      "text/plain": [
       "array([[0., 0., 0.],\n",
       "       [0., 0., 0.]])"
      ]
     },
     "execution_count": 22,
     "metadata": {},
     "output_type": "execute_result"
    }
   ],
   "source": [
    "np.zeros((2,3))"
   ]
  },
  {
   "cell_type": "code",
   "execution_count": 24,
   "id": "7002b15d-0639-4890-ab5e-5994afffe4a2",
   "metadata": {},
   "outputs": [
    {
     "data": {
      "text/plain": [
       "array([[1., 1., 1.],\n",
       "       [1., 1., 1.]])"
      ]
     },
     "execution_count": 24,
     "metadata": {},
     "output_type": "execute_result"
    }
   ],
   "source": [
    "np.ones((2,3))"
   ]
  },
  {
   "cell_type": "code",
   "execution_count": 26,
   "id": "40dd180f-271c-4933-84ce-260b50d81dc7",
   "metadata": {},
   "outputs": [
    {
     "data": {
      "text/plain": [
       "array([[10, 10, 10],\n",
       "       [10, 10, 10]])"
      ]
     },
     "execution_count": 26,
     "metadata": {},
     "output_type": "execute_result"
    }
   ],
   "source": [
    "np.full((2,3),10)"
   ]
  },
  {
   "cell_type": "code",
   "execution_count": 28,
   "id": "4e9032e7-effd-4ec0-b772-86c5c12b8b51",
   "metadata": {},
   "outputs": [
    {
     "data": {
      "text/plain": [
       "array([[1., 0., 0., 0., 0.],\n",
       "       [0., 1., 0., 0., 0.],\n",
       "       [0., 0., 1., 0., 0.],\n",
       "       [0., 0., 0., 1., 0.],\n",
       "       [0., 0., 0., 0., 1.]])"
      ]
     },
     "execution_count": 28,
     "metadata": {},
     "output_type": "execute_result"
    }
   ],
   "source": [
    "np.eye(5)"
   ]
  },
  {
   "cell_type": "code",
   "execution_count": 30,
   "id": "ae112062-41fb-41ec-af7a-c1029abac8f8",
   "metadata": {},
   "outputs": [
    {
     "name": "stdout",
     "output_type": "stream",
     "text": [
      "15\n"
     ]
    }
   ],
   "source": [
    "from numpy import random\n",
    "x = random.randint(10,21)\n",
    "print(x)"
   ]
  },
  {
   "cell_type": "code",
   "execution_count": 32,
   "id": "cb604e1d-5491-4b4c-b672-d6e1c5bf87aa",
   "metadata": {},
   "outputs": [
    {
     "name": "stdout",
     "output_type": "stream",
     "text": [
      "20\n"
     ]
    }
   ],
   "source": [
    "c=np.array([[10,20,30],[40,50,60]])\n",
    "print(c[0,1])"
   ]
  },
  {
   "cell_type": "code",
   "execution_count": 34,
   "id": "68415af6-275e-4127-9874-727e0878c7c3",
   "metadata": {},
   "outputs": [
    {
     "name": "stdout",
     "output_type": "stream",
     "text": [
      "[ 1 76 92  0]\n"
     ]
    }
   ],
   "source": [
    "d=np.array([82,123,1,76,92,0])\n",
    "print(d[2:])"
   ]
  },
  {
   "cell_type": "code",
   "execution_count": 36,
   "id": "98e932aa-3289-48c2-8963-8b45bbca75d2",
   "metadata": {},
   "outputs": [
    {
     "name": "stdout",
     "output_type": "stream",
     "text": [
      "[]\n"
     ]
    }
   ],
   "source": [
    "print(d[0:6:-1])"
   ]
  },
  {
   "cell_type": "code",
   "execution_count": 38,
   "id": "004b4405-b598-4ca5-ad03-bd2102621a6d",
   "metadata": {},
   "outputs": [
    {
     "name": "stdout",
     "output_type": "stream",
     "text": [
      "[ 82 123   1  76  92   0]\n"
     ]
    }
   ],
   "source": [
    "e=d.copy()\n",
    "print(e)"
   ]
  },
  {
   "cell_type": "code",
   "execution_count": 40,
   "id": "768063af-74e9-46c8-9099-4d1d1f878344",
   "metadata": {},
   "outputs": [
    {
     "name": "stdout",
     "output_type": "stream",
     "text": [
      "[ 82 123   1  76  92   0]\n"
     ]
    }
   ],
   "source": [
    "f=d.view()\n",
    "print(f)"
   ]
  },
  {
   "cell_type": "code",
   "execution_count": 42,
   "id": "8fcf17a5-0edc-42da-9daf-51833481f503",
   "metadata": {},
   "outputs": [
    {
     "name": "stdout",
     "output_type": "stream",
     "text": [
      "[82  2  1 76 92  0]\n",
      "[82  2  1 76 92  0]\n"
     ]
    }
   ],
   "source": [
    "f[1]=2\n",
    "print(f)\n",
    "print(d)"
   ]
  },
  {
   "cell_type": "code",
   "execution_count": 44,
   "id": "8588630e-c518-4e0d-bd97-36fb4961823b",
   "metadata": {},
   "outputs": [
    {
     "data": {
      "text/plain": [
       "array([[80, 10, 30],\n",
       "       [90, 70, 60]])"
      ]
     },
     "execution_count": 44,
     "metadata": {},
     "output_type": "execute_result"
    }
   ],
   "source": [
    "np.sort(b,axis=0)"
   ]
  },
  {
   "cell_type": "code",
   "execution_count": 46,
   "id": "c3331000-2bf2-4610-a48f-b3394849095e",
   "metadata": {},
   "outputs": [
    {
     "data": {
      "text/plain": [
       "array([[10, 30, 90],\n",
       "       [60, 70, 80]])"
      ]
     },
     "execution_count": 46,
     "metadata": {},
     "output_type": "execute_result"
    }
   ],
   "source": [
    "np.sort(b,axis=1)"
   ]
  },
  {
   "cell_type": "code",
   "execution_count": 48,
   "id": "8042c7bb-d228-4b85-a7bc-329f5439a6c9",
   "metadata": {},
   "outputs": [
    {
     "data": {
      "text/plain": [
       "6"
      ]
     },
     "execution_count": 48,
     "metadata": {},
     "output_type": "execute_result"
    }
   ],
   "source": [
    "np.searchsorted(d,92)"
   ]
  },
  {
   "cell_type": "code",
   "execution_count": 50,
   "id": "02ec517b-461e-4fd9-a7f5-a1bf66463d8e",
   "metadata": {},
   "outputs": [
    {
     "data": {
      "text/plain": [
       "(array([], dtype=int64),)"
      ]
     },
     "execution_count": 50,
     "metadata": {},
     "output_type": "execute_result"
    }
   ],
   "source": [
    "g=np.array([10,100,10])\n",
    "np.where(a==30)"
   ]
  },
  {
   "cell_type": "code",
   "execution_count": 52,
   "id": "92b7c4b5-25aa-4138-ba7d-e1dd70ee7e43",
   "metadata": {},
   "outputs": [
    {
     "data": {
      "text/plain": [
       "[array([1, 2, 3, 4, 5]), array([ 6,  7,  8,  9, 10])]"
      ]
     },
     "execution_count": 52,
     "metadata": {},
     "output_type": "execute_result"
    }
   ],
   "source": [
    "h=np.array([1,2,3,4,5,6,7,8,9,10])\n",
    "np.split(h,2)"
   ]
  },
  {
   "cell_type": "code",
   "execution_count": 54,
   "id": "e3811259-da90-4042-b4e5-90955b89dc13",
   "metadata": {},
   "outputs": [
    {
     "data": {
      "text/plain": [
       "[array([1, 2]), array([3, 4]), array([5, 6]), array([7, 8]), array([ 9, 10])]"
      ]
     },
     "execution_count": 54,
     "metadata": {},
     "output_type": "execute_result"
    }
   ],
   "source": [
    "np.split(h,5)"
   ]
  },
  {
   "cell_type": "code",
   "execution_count": 56,
   "id": "0f020708-4823-450c-8574-b238c4abad24",
   "metadata": {},
   "outputs": [
    {
     "data": {
      "text/plain": [
       "[array([1, 2, 3, 4]), array([5, 6, 7]), array([ 8,  9, 10])]"
      ]
     },
     "execution_count": 56,
     "metadata": {},
     "output_type": "execute_result"
    }
   ],
   "source": [
    "np.array_split(h,3)"
   ]
  },
  {
   "cell_type": "code",
   "execution_count": 58,
   "id": "4fa62895-67be-4457-8b83-b08c1efb3489",
   "metadata": {},
   "outputs": [
    {
     "data": {
      "text/plain": [
       "array([[1, 9, 3],\n",
       "       [2, 7, 9],\n",
       "       [4, 5, 6],\n",
       "       [7, 4, 2]])"
      ]
     },
     "execution_count": 58,
     "metadata": {},
     "output_type": "execute_result"
    }
   ],
   "source": [
    "i=np.array([[1,9,3],[2,7,9]])\n",
    "j=np.array([[4,5,6],[7,4,2]])\n",
    "np.concatenate((i,j))"
   ]
  },
  {
   "cell_type": "code",
   "execution_count": 62,
   "id": "8908313e-b095-4105-a55f-839ddf8293db",
   "metadata": {},
   "outputs": [
    {
     "data": {
      "text/plain": [
       "array([[1, 9, 3],\n",
       "       [2, 7, 9],\n",
       "       [4, 5, 6],\n",
       "       [7, 4, 2]])"
      ]
     },
     "execution_count": 62,
     "metadata": {},
     "output_type": "execute_result"
    }
   ],
   "source": [
    "np.concatenate((i,j),axis=0)"
   ]
  },
  {
   "cell_type": "code",
   "execution_count": 64,
   "id": "4a5506ab-f36f-4590-80f4-ac8d9c284871",
   "metadata": {},
   "outputs": [
    {
     "data": {
      "text/plain": [
       "array([[1, 9, 3, 4, 5, 6],\n",
       "       [2, 7, 9, 7, 4, 2]])"
      ]
     },
     "execution_count": 64,
     "metadata": {},
     "output_type": "execute_result"
    }
   ],
   "source": [
    "np.concatenate((i,j),axis=1)"
   ]
  },
  {
   "cell_type": "code",
   "execution_count": 232,
   "id": "4c54d36f-f74f-4564-ac5a-06846baaa6eb",
   "metadata": {},
   "outputs": [
    {
     "data": {
      "text/plain": [
       "array([[ 5, 14,  9],\n",
       "       [ 9, 11, 11]])"
      ]
     },
     "execution_count": 232,
     "metadata": {},
     "output_type": "execute_result"
    }
   ],
   "source": [
    "np.add(i,j)"
   ]
  },
  {
   "cell_type": "code",
   "execution_count": 236,
   "id": "4695fd03-ffa9-4a2a-a3f7-8a6967ffefe7",
   "metadata": {},
   "outputs": [
    {
     "data": {
      "text/plain": [
       "array([[-3,  4, -3],\n",
       "       [-5,  3,  7]])"
      ]
     },
     "execution_count": 236,
     "metadata": {},
     "output_type": "execute_result"
    }
   ],
   "source": [
    "np.subtract(i,j)"
   ]
  },
  {
   "cell_type": "code",
   "execution_count": 237,
   "id": "a4d98a60-ea24-4cb6-aa14-9286d8c78df2",
   "metadata": {},
   "outputs": [
    {
     "data": {
      "text/plain": [
       "array([[ 4, 45, 18],\n",
       "       [14, 28, 18]])"
      ]
     },
     "execution_count": 237,
     "metadata": {},
     "output_type": "execute_result"
    }
   ],
   "source": [
    "np.multiply(i,j)"
   ]
  },
  {
   "cell_type": "code",
   "execution_count": 238,
   "id": "d6e8f830-299d-4c76-9bc9-e4e132b3724e",
   "metadata": {},
   "outputs": [
    {
     "data": {
      "text/plain": [
       "array([[0.25      , 1.8       , 0.5       ],\n",
       "       [0.28571429, 1.75      , 4.5       ]])"
      ]
     },
     "execution_count": 238,
     "metadata": {},
     "output_type": "execute_result"
    }
   ],
   "source": [
    "np.divide(i,j)"
   ]
  },
  {
   "cell_type": "code",
   "execution_count": 239,
   "id": "eb80703a-0af7-4e15-89b1-ffb35c5b579d",
   "metadata": {},
   "outputs": [
    {
     "data": {
      "text/plain": [
       "array([[1, 4, 3],\n",
       "       [2, 3, 1]])"
      ]
     },
     "execution_count": 239,
     "metadata": {},
     "output_type": "execute_result"
    }
   ],
   "source": [
    "np.mod(i,j)"
   ]
  },
  {
   "cell_type": "code",
   "execution_count": 240,
   "id": "3b7865a8-24ef-4303-814d-857317296bd7",
   "metadata": {},
   "outputs": [
    {
     "data": {
      "text/plain": [
       "1"
      ]
     },
     "execution_count": 240,
     "metadata": {},
     "output_type": "execute_result"
    }
   ],
   "source": [
    "np.amin(i)"
   ]
  },
  {
   "cell_type": "code",
   "execution_count": 241,
   "id": "23cf23e6-d909-4e19-bab2-32b66158271b",
   "metadata": {},
   "outputs": [
    {
     "data": {
      "text/plain": [
       "5.166666666666667"
      ]
     },
     "execution_count": 241,
     "metadata": {},
     "output_type": "execute_result"
    }
   ],
   "source": [
    "np.mean(i)"
   ]
  },
  {
   "cell_type": "code",
   "execution_count": 242,
   "id": "ee0b7b59-4703-4565-95e1-25c5141887a0",
   "metadata": {},
   "outputs": [
    {
     "data": {
      "text/plain": [
       "5.0"
      ]
     },
     "execution_count": 242,
     "metadata": {},
     "output_type": "execute_result"
    }
   ],
   "source": [
    "np.median(i)"
   ]
  },
  {
   "cell_type": "code",
   "execution_count": 243,
   "id": "9b51732c-bf45-48fb-a400-a2daf2f3479d",
   "metadata": {},
   "outputs": [
    {
     "data": {
      "text/plain": [
       "10.805555555555555"
      ]
     },
     "execution_count": 243,
     "metadata": {},
     "output_type": "execute_result"
    }
   ],
   "source": [
    "np.var(i)"
   ]
  },
  {
   "cell_type": "code",
   "execution_count": 246,
   "id": "824a1652-7372-45f8-b3b0-610b1a482539",
   "metadata": {},
   "outputs": [
    {
     "data": {
      "text/plain": [
       "3.2871804872193366"
      ]
     },
     "execution_count": 246,
     "metadata": {},
     "output_type": "execute_result"
    }
   ],
   "source": [
    "np.std(i)"
   ]
  },
  {
   "cell_type": "code",
   "execution_count": 68,
   "id": "a3cb79eb-3e83-4ca6-a5df-1d16f48600f8",
   "metadata": {},
   "outputs": [
    {
     "data": {
      "text/plain": [
       "array([11, 22, 33])"
      ]
     },
     "execution_count": 68,
     "metadata": {},
     "output_type": "execute_result"
    }
   ],
   "source": [
    "e=np.array([10,20,30])\n",
    "f=np.array([1,2,3])\n",
    "np.add(e,f)"
   ]
  },
  {
   "cell_type": "code",
   "execution_count": 72,
   "id": "c05495ad-2c50-4681-9c86-c59f6328c9a9",
   "metadata": {},
   "outputs": [
    {
     "data": {
      "text/plain": [
       "array([   10,   400, 27000])"
      ]
     },
     "execution_count": 72,
     "metadata": {},
     "output_type": "execute_result"
    }
   ],
   "source": [
    "np.power(e,f)"
   ]
  },
  {
   "cell_type": "code",
   "execution_count": 80,
   "id": "6b125ab7-bd75-4e9e-a72a-1c82acff11cc",
   "metadata": {},
   "outputs": [
    {
     "data": {
      "text/plain": [
       "array([0.1       , 0.05      , 0.03333333])"
      ]
     },
     "execution_count": 80,
     "metadata": {},
     "output_type": "execute_result"
    }
   ],
   "source": [
    "np.reciprocal(e.astype(float))"
   ]
  },
  {
   "cell_type": "code",
   "execution_count": null,
   "id": "3833626d-70fe-4c33-a0ef-e462ddafd8ec",
   "metadata": {},
   "outputs": [],
   "source": []
  }
 ],
 "metadata": {
  "kernelspec": {
   "display_name": "Python [conda env:base] *",
   "language": "python",
   "name": "conda-base-py"
  },
  "language_info": {
   "codemirror_mode": {
    "name": "ipython",
    "version": 3
   },
   "file_extension": ".py",
   "mimetype": "text/x-python",
   "name": "python",
   "nbconvert_exporter": "python",
   "pygments_lexer": "ipython3",
   "version": "3.12.7"
  }
 },
 "nbformat": 4,
 "nbformat_minor": 5
}
